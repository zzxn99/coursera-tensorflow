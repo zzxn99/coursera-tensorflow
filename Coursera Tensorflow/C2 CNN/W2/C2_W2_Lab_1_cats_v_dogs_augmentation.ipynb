{
  "cells": [
    {
      "cell_type": "markdown",
      "metadata": {
        "id": "view-in-github",
        "colab_type": "text"
      },
      "source": [
        "<a href=\"https://colab.research.google.com/github/zzxn99/tensorflow-projects/blob/main/Coursera%20Tensorflow/C2%20CNN/W2/C2_W2_Lab_1_cats_v_dogs_augmentation.ipynb\" target=\"_parent\"><img src=\"https://colab.research.google.com/assets/colab-badge.svg\" alt=\"Open In Colab\"/></a>"
      ]
    },
    {
      "cell_type": "markdown",
      "metadata": {
        "id": "gGxCD4mGHHjG"
      },
      "source": [
        "# Ungraded Lab: Data Augmentation\n",
        "\n",
        "In the previous lessons, you saw that having a high training accuracy does not automatically mean having a good predictive model. It can still perform poorly on new data because it has overfit to the training set. In this lab, you will see how to avoid that using _data augmentation_. This increases the amount of training data by modifying the existing training data's properties. For example, in image data, you can apply different preprocessing techniques such as rotate, flip, shear, or zoom on your existing images so you can simulate other data that the model should also learn from. This way, the model would see more variety in the images during training so it will infer better on new, previously unseen data.\n",
        "\n",
        "Let's see how you can do this in the following sections."
      ]
    },
    {
      "cell_type": "markdown",
      "metadata": {
        "id": "kJJqX4DxcQs8"
      },
      "source": [
        "## Baseline Performance\n",
        "\n",
        "You will start with a model that's very effective at learning `Cats vs Dogs` without data augmentation. It's similar to the previous models that you have used. Note that there are four convolutional layers with 32, 64, 128 and 128 convolutions respectively. The code is basically the same from the previous lab so we won't go over the details step by step since you've already seen it before.\n",
        "\n",
        "You will train only for 20 epochs to save time but feel free to increase this if you want."
      ]
    },
    {
      "cell_type": "code",
      "execution_count": null,
      "metadata": {
        "id": "zJZIF29-dIRv",
        "colab": {
          "base_uri": "https://localhost:8080/"
        },
        "outputId": "3dc25705-637e-4a4e-8e3b-2fbbae1e35a1"
      },
      "outputs": [
        {
          "output_type": "stream",
          "name": "stdout",
          "text": [
            "Downloading...\n",
            "From: https://drive.google.com/uc?id=1RL0T7Rg4XqQNRCkjfnLo4goOJQ7XZro9\n",
            "To: /content/cats_and_dogs_filtered.zip\n",
            "100% 68.6M/68.6M [00:00<00:00, 173MB/s]\n"
          ]
        }
      ],
      "source": [
        "# Download the dataset\n",
        "!gdown --id 1RL0T7Rg4XqQNRCkjfnLo4goOJQ7XZro9"
      ]
    },
    {
      "cell_type": "code",
      "execution_count": null,
      "metadata": {
        "id": "_DyUfCTgdwa8"
      },
      "outputs": [],
      "source": [
        "import os\n",
        "import zipfile\n",
        "\n",
        "# Extract the archive\n",
        "zip_ref = zipfile.ZipFile(\"./cats_and_dogs_filtered.zip\", 'r')\n",
        "zip_ref.extractall(\"tmp/\")\n",
        "zip_ref.close()\n",
        "\n",
        "# Assign training and validation set directories\n",
        "base_dir = 'tmp/cats_and_dogs_filtered'\n",
        "train_dir = os.path.join(base_dir, 'train')\n",
        "validation_dir = os.path.join(base_dir, 'validation')\n",
        "\n",
        "# Directory with training cat pictures\n",
        "train_cats_dir = os.path.join(train_dir, 'cats')\n",
        "\n",
        "# Directory with training dog pictures\n",
        "train_dogs_dir = os.path.join(train_dir, 'dogs')\n",
        "\n",
        "# Directory with validation cat pictures\n",
        "validation_cats_dir = os.path.join(validation_dir, 'cats')\n",
        "\n",
        "# Directory with validation dog pictures\n",
        "validation_dogs_dir = os.path.join(validation_dir, 'dogs')"
      ]
    },
    {
      "cell_type": "markdown",
      "metadata": {
        "id": "Ub_BdOJIfZ_Q"
      },
      "source": [
        "You will place the model creation inside a function so you can easily initialize a new one when you use data augmentation later in this notebook."
      ]
    },
    {
      "cell_type": "code",
      "execution_count": null,
      "metadata": {
        "id": "uWllK_Wad-Mx"
      },
      "outputs": [],
      "source": [
        "import tensorflow as tf\n",
        "from tensorflow.keras.optimizers import RMSprop\n",
        "\n",
        "def create_model():\n",
        "  '''Creates a CNN with 4 convolutional layers'''\n",
        "  model = tf.keras.models.Sequential([\n",
        "      tf.keras.layers.Conv2D(32, (3,3), activation='relu', input_shape=(150, 150, 3)),\n",
        "      tf.keras.layers.MaxPooling2D(2, 2),\n",
        "      tf.keras.layers.Conv2D(64, (3,3), activation='relu'),\n",
        "      tf.keras.layers.MaxPooling2D(2,2),\n",
        "      tf.keras.layers.Conv2D(128, (3,3), activation='relu'),\n",
        "      tf.keras.layers.MaxPooling2D(2,2),\n",
        "      tf.keras.layers.Conv2D(128, (3,3), activation='relu'),\n",
        "      tf.keras.layers.MaxPooling2D(2,2),\n",
        "      tf.keras.layers.Flatten(),\n",
        "      tf.keras.layers.Dense(512, activation='relu'),\n",
        "      tf.keras.layers.Dense(1, activation='sigmoid')\n",
        "  ])\n",
        "\n",
        "  model.compile(loss='binary_crossentropy',\n",
        "                optimizer=RMSprop(learning_rate=1e-4),\n",
        "                metrics=['accuracy'])\n",
        "  \n",
        "  return model"
      ]
    },
    {
      "cell_type": "code",
      "execution_count": null,
      "metadata": {
        "id": "MJPyDEzOqrKB",
        "colab": {
          "base_uri": "https://localhost:8080/"
        },
        "outputId": "246643a6-8849-4da9-db55-c9d7294c6538"
      },
      "outputs": [
        {
          "output_type": "stream",
          "name": "stdout",
          "text": [
            "Found 2000 images belonging to 2 classes.\n",
            "Found 1000 images belonging to 2 classes.\n"
          ]
        }
      ],
      "source": [
        "from tensorflow.keras.preprocessing.image import ImageDataGenerator\n",
        "\n",
        "# All images will be rescaled by 1./255\n",
        "train_datagen = ImageDataGenerator(rescale=1./255)\n",
        "test_datagen = ImageDataGenerator(rescale=1./255)\n",
        "\n",
        "# Flow training images in batches of 20 using train_datagen generator\n",
        "train_generator = train_datagen.flow_from_directory(\n",
        "        train_dir,  # This is the source directory for training images\n",
        "        target_size=(150, 150),  # All images will be resized to 150x150\n",
        "        batch_size=20,\n",
        "        # Since we use binary_crossentropy loss, we need binary labels\n",
        "        class_mode='binary')\n",
        "\n",
        "# Flow validation images in batches of 20 using test_datagen generator\n",
        "validation_generator = test_datagen.flow_from_directory(\n",
        "        validation_dir,\n",
        "        target_size=(150, 150),\n",
        "        batch_size=20,\n",
        "        class_mode='binary')"
      ]
    },
    {
      "cell_type": "code",
      "execution_count": null,
      "metadata": {
        "id": "hdqUoF44esR3",
        "colab": {
          "base_uri": "https://localhost:8080/"
        },
        "outputId": "948ed87e-427c-4c7a-cadd-cafa49e37622"
      },
      "outputs": [
        {
          "output_type": "stream",
          "name": "stdout",
          "text": [
            "Epoch 1/20\n",
            "100/100 - 20s - loss: 0.6895 - accuracy: 0.5300 - val_loss: 0.6716 - val_accuracy: 0.5620 - 20s/epoch - 196ms/step\n",
            "Epoch 2/20\n",
            "100/100 - 8s - loss: 0.6551 - accuracy: 0.6055 - val_loss: 0.6192 - val_accuracy: 0.6780 - 8s/epoch - 80ms/step\n",
            "Epoch 3/20\n",
            "100/100 - 8s - loss: 0.6043 - accuracy: 0.6745 - val_loss: 0.5931 - val_accuracy: 0.6910 - 8s/epoch - 81ms/step\n",
            "Epoch 4/20\n",
            "100/100 - 8s - loss: 0.5681 - accuracy: 0.7095 - val_loss: 0.5834 - val_accuracy: 0.6990 - 8s/epoch - 83ms/step\n",
            "Epoch 5/20\n",
            "100/100 - 8s - loss: 0.5329 - accuracy: 0.7315 - val_loss: 0.5643 - val_accuracy: 0.7100 - 8s/epoch - 81ms/step\n",
            "Epoch 6/20\n",
            "100/100 - 8s - loss: 0.5079 - accuracy: 0.7510 - val_loss: 0.5679 - val_accuracy: 0.6960 - 8s/epoch - 80ms/step\n",
            "Epoch 7/20\n",
            "100/100 - 9s - loss: 0.4764 - accuracy: 0.7765 - val_loss: 0.5443 - val_accuracy: 0.7110 - 9s/epoch - 88ms/step\n",
            "Epoch 8/20\n",
            "100/100 - 8s - loss: 0.4555 - accuracy: 0.7870 - val_loss: 0.5503 - val_accuracy: 0.7230 - 8s/epoch - 80ms/step\n",
            "Epoch 9/20\n",
            "100/100 - 8s - loss: 0.4306 - accuracy: 0.8010 - val_loss: 0.5754 - val_accuracy: 0.7200 - 8s/epoch - 81ms/step\n",
            "Epoch 10/20\n",
            "100/100 - 8s - loss: 0.3950 - accuracy: 0.8235 - val_loss: 0.5414 - val_accuracy: 0.7280 - 8s/epoch - 83ms/step\n",
            "Epoch 11/20\n",
            "100/100 - 8s - loss: 0.3855 - accuracy: 0.8180 - val_loss: 0.6066 - val_accuracy: 0.7060 - 8s/epoch - 80ms/step\n",
            "Epoch 12/20\n",
            "100/100 - 8s - loss: 0.3589 - accuracy: 0.8430 - val_loss: 0.5533 - val_accuracy: 0.7360 - 8s/epoch - 81ms/step\n",
            "Epoch 13/20\n",
            "100/100 - 8s - loss: 0.3368 - accuracy: 0.8550 - val_loss: 0.6155 - val_accuracy: 0.7160 - 8s/epoch - 81ms/step\n",
            "Epoch 14/20\n",
            "100/100 - 8s - loss: 0.3138 - accuracy: 0.8610 - val_loss: 0.6008 - val_accuracy: 0.7240 - 8s/epoch - 81ms/step\n",
            "Epoch 15/20\n",
            "100/100 - 8s - loss: 0.2866 - accuracy: 0.8835 - val_loss: 0.7163 - val_accuracy: 0.7050 - 8s/epoch - 81ms/step\n",
            "Epoch 16/20\n",
            "100/100 - 8s - loss: 0.2697 - accuracy: 0.8885 - val_loss: 0.5751 - val_accuracy: 0.7360 - 8s/epoch - 83ms/step\n",
            "Epoch 17/20\n",
            "100/100 - 8s - loss: 0.2493 - accuracy: 0.8985 - val_loss: 0.5627 - val_accuracy: 0.7470 - 8s/epoch - 80ms/step\n",
            "Epoch 18/20\n",
            "100/100 - 8s - loss: 0.2320 - accuracy: 0.9120 - val_loss: 0.5974 - val_accuracy: 0.7350 - 8s/epoch - 80ms/step\n",
            "Epoch 19/20\n",
            "100/100 - 8s - loss: 0.2113 - accuracy: 0.9185 - val_loss: 0.5809 - val_accuracy: 0.7330 - 8s/epoch - 80ms/step\n",
            "Epoch 20/20\n",
            "100/100 - 8s - loss: 0.1924 - accuracy: 0.9335 - val_loss: 0.6176 - val_accuracy: 0.7420 - 8s/epoch - 81ms/step\n"
          ]
        }
      ],
      "source": [
        "# Constant for epochs\n",
        "EPOCHS = 20\n",
        "\n",
        "# Create a new model\n",
        "model = create_model()\n",
        "\n",
        "# Train the model\n",
        "history = model.fit(\n",
        "      train_generator,\n",
        "      steps_per_epoch=100,  # 2000 images = batch_size * steps\n",
        "      epochs=EPOCHS,\n",
        "      validation_data=validation_generator,\n",
        "      validation_steps=50,  # 1000 images = batch_size * steps\n",
        "      verbose=2)"
      ]
    },
    {
      "cell_type": "markdown",
      "metadata": {
        "id": "Y-G0Am4cguNt"
      },
      "source": [
        "You will then visualize the loss and accuracy with respect to the training and validation set. You will again use a convenience function so it can be reused later. This function accepts a [History](https://www.tensorflow.org/api_docs/python/tf/keras/callbacks/History) object which contains the results of the `fit()` method you ran above."
      ]
    },
    {
      "cell_type": "code",
      "execution_count": null,
      "metadata": {
        "id": "GZWPcmKWO303"
      },
      "outputs": [],
      "source": [
        "import matplotlib.pyplot as plt\n",
        "\n",
        "def plot_loss_acc(history):\n",
        "  '''Plots the training and validation loss and accuracy from a history object'''\n",
        "  acc = history.history['accuracy']\n",
        "  val_acc = history.history['val_accuracy']\n",
        "  loss = history.history['loss']\n",
        "  val_loss = history.history['val_loss']\n",
        "\n",
        "  epochs = range(len(acc))\n",
        "\n",
        "  plt.plot(epochs, acc, 'bo', label='Training accuracy')\n",
        "  plt.plot(epochs, val_acc, 'b', label='Validation accuracy')\n",
        "  plt.title('Training and validation accuracy')\n",
        "\n",
        "  plt.figure()\n",
        "\n",
        "  plt.plot(epochs, loss, 'bo', label='Training Loss')\n",
        "  plt.plot(epochs, val_loss, 'b', label='Validation Loss')\n",
        "  plt.title('Training and validation loss')\n",
        "  plt.legend()\n",
        "\n",
        "  plt.show()"
      ]
    },
    {
      "cell_type": "code",
      "execution_count": null,
      "metadata": {
        "id": "Vojz4NYXiT_f",
        "colab": {
          "base_uri": "https://localhost:8080/",
          "height": 545
        },
        "outputId": "0a4de1df-7c76-40b2-8643-ff7c5cc20d45"
      },
      "outputs": [
        {
          "output_type": "display_data",
          "data": {
            "image/png": "[encoded data removed]",
            "text/plain": [
              "<Figure size 432x288 with 1 Axes>"
            ]
          },
          "metadata": {
            "needs_background": "light"
          }
        },
        {
          "output_type": "display_data",
          "data": {
            "image/png": "[encoded data removed]",
            "text/plain": [
              "<Figure size 432x288 with 1 Axes>"
            ]
          },
          "metadata": {
            "needs_background": "light"
          }
        }
      ],
      "source": [
        "# Plot training results\n",
        "plot_loss_acc(history)"
      ]
    },
    {
      "cell_type": "markdown",
      "metadata": {
        "id": "zb81GvNov-Tg"
      },
      "source": [
        "From the results above, you'll see the training accuracy is more than 90%, and the validation accuracy is in the 70%-80% range. This is a great example of _overfitting_ -- which in short means that it can do very well with images it has seen before, but not so well with images it hasn't.\n"
      ]
    },
    {
      "cell_type": "markdown",
      "metadata": {
        "id": "5KBz-vFbjLZX"
      },
      "source": [
        "## Data augmentation\n",
        "\n",
        "One simple method to avoid overfitting is to augment the images a bit. If you think about it, most pictures of a cat are very similar -- the ears are at the top, then the eyes, then the mouth etc. Things like the distance between the eyes and ears will always be quite similar too. \n",
        "\n",
        "What if you tweak with the images a bit -- rotate the image, squash it, etc.  That's what image augementation is all about. And there's an API that makes it easy!\n",
        "\n",
        "Take a look at the [ImageDataGenerator](https://www.tensorflow.org/api_docs/python/tf/keras/preprocessing/image/ImageDataGenerator) which you have been using to rescale the image. There are other properties on it that you can use to augment the image. \n",
        "\n",
        "```\n",
        "# Updated to do image augmentation\n",
        "train_datagen = ImageDataGenerator(\n",
        "      rotation_range=40,\n",
        "      width_shift_range=0.2,\n",
        "      height_shift_range=0.2,\n",
        "      shear_range=0.2,\n",
        "      zoom_range=0.2,\n",
        "      horizontal_flip=True,\n",
        "      fill_mode='nearest')\n",
        "```\n",
        "\n",
        "These are just a few of the options available. Let's quickly go over it:\n",
        "\n",
        "* `rotation_range` is a value in degrees (0–180) within which to randomly rotate pictures.\n",
        "* `width_shift` and `height_shift` are ranges (as a fraction of total width or height) within which to randomly translate pictures vertically or horizontally.\n",
        "* `shear_range` is for randomly applying shearing transformations.\n",
        "* `zoom_range` is for randomly zooming inside pictures.\n",
        "* `horizontal_flip` is for randomly flipping half of the images horizontally. This is relevant when there are no assumptions of horizontal assymmetry (e.g. real-world pictures).\n",
        "* `fill_mode` is the strategy used for filling in newly created pixels, which can appear after a rotation or a width/height shift.\n",
        "\n",
        "\n",
        "Run the next cells to see the impact on the results. The code is similar to the baseline but the definition of `train_datagen` has been updated to use the parameters described above.\n"
      ]
    },
    {
      "cell_type": "code",
      "source": [
        "def create_model_aug():\n",
        "  '''Creates a CNN with 4 convolutional layers'''\n",
        "  model = tf.keras.models.Sequential([\n",
        "      tf.keras.layers.Conv2D(32, (3,3), activation='relu', input_shape=(150, 150, 3)),\n",
        "      tf.keras.layers.MaxPooling2D(2, 2),\n",
        "      tf.keras.layers.Conv2D(64, (3,3), activation='relu'),\n",
        "      tf.keras.layers.MaxPooling2D(2,2),\n",
        "      tf.keras.layers.Conv2D(128, (3,3), activation='relu'),\n",
        "      tf.keras.layers.MaxPooling2D(2,2),\n",
        "      tf.keras.layers.Conv2D(128, (3,3), activation='relu'),\n",
        "      tf.keras.layers.MaxPooling2D(2,2),\n",
        "      tf.keras.layers.Flatten(),\n",
        "      tf.keras.layers.Dense(1024, activation='relu'),\n",
        "      tf.keras.layers.Dense(512, activation='relu'),\n",
        "      tf.keras.layers.Dense(1, activation='sigmoid')\n",
        "  ])\n",
        "\n",
        "  model.compile(loss='binary_crossentropy',\n",
        "                optimizer=RMSprop(learning_rate=1e-4),\n",
        "                metrics=['accuracy'])\n",
        "  \n",
        "  return model"
      ],
      "metadata": {
        "id": "EOn6lLKliv9Y"
      },
      "execution_count": null,
      "outputs": []
    },
    {
      "cell_type": "code",
      "execution_count": null,
      "metadata": {
        "id": "UK7_Fflgv8YC",
        "colab": {
          "base_uri": "https://localhost:8080/"
        },
        "outputId": "609bfb34-db95-413a-87f4-e485c3dc53cf"
      },
      "outputs": [
        {
          "output_type": "stream",
          "name": "stdout",
          "text": [
            "Found 2000 images belonging to 2 classes.\n",
            "Found 1000 images belonging to 2 classes.\n",
            "Epoch 1/40\n",
            "100/100 - 18s - loss: 0.6964 - accuracy: 0.5190 - val_loss: 0.6873 - val_accuracy: 0.5320 - 18s/epoch - 176ms/step\n",
            "Epoch 2/40\n",
            "100/100 - 16s - loss: 0.6835 - accuracy: 0.5470 - val_loss: 0.6638 - val_accuracy: 0.6340 - 16s/epoch - 163ms/step\n",
            "Epoch 3/40\n",
            "100/100 - 16s - loss: 0.6676 - accuracy: 0.5795 - val_loss: 0.6368 - val_accuracy: 0.6520 - 16s/epoch - 163ms/step\n",
            "Epoch 4/40\n",
            "100/100 - 16s - loss: 0.6328 - accuracy: 0.6255 - val_loss: 0.6014 - val_accuracy: 0.6810 - 16s/epoch - 165ms/step\n",
            "Epoch 5/40\n",
            "100/100 - 16s - loss: 0.6173 - accuracy: 0.6580 - val_loss: 0.6052 - val_accuracy: 0.6470 - 16s/epoch - 164ms/step\n",
            "Epoch 6/40\n",
            "100/100 - 16s - loss: 0.6060 - accuracy: 0.6600 - val_loss: 0.5850 - val_accuracy: 0.6950 - 16s/epoch - 163ms/step\n",
            "Epoch 7/40\n",
            "100/100 - 17s - loss: 0.5992 - accuracy: 0.6810 - val_loss: 0.5668 - val_accuracy: 0.6990 - 17s/epoch - 166ms/step\n",
            "Epoch 8/40\n",
            "100/100 - 16s - loss: 0.5822 - accuracy: 0.6945 - val_loss: 0.5945 - val_accuracy: 0.6980 - 16s/epoch - 163ms/step\n",
            "Epoch 9/40\n",
            "100/100 - 16s - loss: 0.5864 - accuracy: 0.6840 - val_loss: 0.5468 - val_accuracy: 0.7260 - 16s/epoch - 163ms/step\n",
            "Epoch 10/40\n",
            "100/100 - 17s - loss: 0.5792 - accuracy: 0.6955 - val_loss: 0.5911 - val_accuracy: 0.6630 - 17s/epoch - 168ms/step\n",
            "Epoch 11/40\n",
            "100/100 - 16s - loss: 0.5717 - accuracy: 0.7035 - val_loss: 0.5878 - val_accuracy: 0.6820 - 16s/epoch - 164ms/step\n",
            "Epoch 12/40\n",
            "100/100 - 16s - loss: 0.5554 - accuracy: 0.7105 - val_loss: 0.5309 - val_accuracy: 0.7220 - 16s/epoch - 164ms/step\n",
            "Epoch 13/40\n",
            "100/100 - 17s - loss: 0.5581 - accuracy: 0.7075 - val_loss: 0.5354 - val_accuracy: 0.7180 - 17s/epoch - 166ms/step\n",
            "Epoch 14/40\n",
            "100/100 - 16s - loss: 0.5474 - accuracy: 0.7245 - val_loss: 0.5711 - val_accuracy: 0.6930 - 16s/epoch - 162ms/step\n",
            "Epoch 15/40\n",
            "100/100 - 16s - loss: 0.5490 - accuracy: 0.7330 - val_loss: 0.5326 - val_accuracy: 0.7300 - 16s/epoch - 165ms/step\n",
            "Epoch 16/40\n",
            "100/100 - 17s - loss: 0.5417 - accuracy: 0.7210 - val_loss: 0.5158 - val_accuracy: 0.7510 - 17s/epoch - 167ms/step\n",
            "Epoch 17/40\n",
            "100/100 - 16s - loss: 0.5349 - accuracy: 0.7240 - val_loss: 0.5262 - val_accuracy: 0.7260 - 16s/epoch - 164ms/step\n",
            "Epoch 18/40\n",
            "100/100 - 16s - loss: 0.5333 - accuracy: 0.7330 - val_loss: 0.5127 - val_accuracy: 0.7540 - 16s/epoch - 164ms/step\n",
            "Epoch 19/40\n",
            "100/100 - 17s - loss: 0.5133 - accuracy: 0.7465 - val_loss: 0.5191 - val_accuracy: 0.7360 - 17s/epoch - 166ms/step\n",
            "Epoch 20/40\n",
            "100/100 - 16s - loss: 0.5130 - accuracy: 0.7440 - val_loss: 0.5133 - val_accuracy: 0.7480 - 16s/epoch - 164ms/step\n",
            "Epoch 21/40\n",
            "100/100 - 16s - loss: 0.5150 - accuracy: 0.7560 - val_loss: 0.4779 - val_accuracy: 0.7690 - 16s/epoch - 164ms/step\n",
            "Epoch 22/40\n",
            "100/100 - 16s - loss: 0.5194 - accuracy: 0.7370 - val_loss: 0.5508 - val_accuracy: 0.7170 - 16s/epoch - 165ms/step\n",
            "Epoch 23/40\n",
            "100/100 - 16s - loss: 0.4980 - accuracy: 0.7640 - val_loss: 0.5279 - val_accuracy: 0.7170 - 16s/epoch - 163ms/step\n",
            "Epoch 24/40\n",
            "100/100 - 16s - loss: 0.4909 - accuracy: 0.7705 - val_loss: 0.4955 - val_accuracy: 0.7530 - 16s/epoch - 163ms/step\n",
            "Epoch 25/40\n",
            "100/100 - 17s - loss: 0.5002 - accuracy: 0.7640 - val_loss: 0.4911 - val_accuracy: 0.7700 - 17s/epoch - 165ms/step\n",
            "Epoch 26/40\n",
            "100/100 - 16s - loss: 0.4955 - accuracy: 0.7595 - val_loss: 0.4648 - val_accuracy: 0.7800 - 16s/epoch - 163ms/step\n",
            "Epoch 27/40\n",
            "100/100 - 16s - loss: 0.4928 - accuracy: 0.7510 - val_loss: 0.4911 - val_accuracy: 0.7580 - 16s/epoch - 163ms/step\n",
            "Epoch 28/40\n",
            "100/100 - 17s - loss: 0.4857 - accuracy: 0.7635 - val_loss: 0.4696 - val_accuracy: 0.7670 - 17s/epoch - 166ms/step\n",
            "Epoch 29/40\n",
            "100/100 - 16s - loss: 0.4822 - accuracy: 0.7700 - val_loss: 0.5555 - val_accuracy: 0.7110 - 16s/epoch - 163ms/step\n",
            "Epoch 30/40\n",
            "100/100 - 16s - loss: 0.4770 - accuracy: 0.7710 - val_loss: 0.4507 - val_accuracy: 0.7850 - 16s/epoch - 163ms/step\n",
            "Epoch 31/40\n",
            "100/100 - 17s - loss: 0.4680 - accuracy: 0.7735 - val_loss: 0.4588 - val_accuracy: 0.7770 - 17s/epoch - 165ms/step\n",
            "Epoch 32/40\n",
            "100/100 - 16s - loss: 0.4830 - accuracy: 0.7610 - val_loss: 0.4606 - val_accuracy: 0.7740 - 16s/epoch - 161ms/step\n",
            "Epoch 33/40\n",
            "100/100 - 16s - loss: 0.4867 - accuracy: 0.7645 - val_loss: 0.5387 - val_accuracy: 0.7320 - 16s/epoch - 163ms/step\n",
            "Epoch 34/40\n",
            "100/100 - 16s - loss: 0.4667 - accuracy: 0.7720 - val_loss: 0.4482 - val_accuracy: 0.7800 - 16s/epoch - 164ms/step\n",
            "Epoch 35/40\n",
            "100/100 - 16s - loss: 0.4771 - accuracy: 0.7650 - val_loss: 0.4439 - val_accuracy: 0.7920 - 16s/epoch - 164ms/step\n",
            "Epoch 36/40\n",
            "100/100 - 16s - loss: 0.4693 - accuracy: 0.7780 - val_loss: 0.4968 - val_accuracy: 0.7710 - 16s/epoch - 162ms/step\n",
            "Epoch 37/40\n",
            "100/100 - 16s - loss: 0.4591 - accuracy: 0.7850 - val_loss: 0.4652 - val_accuracy: 0.7870 - 16s/epoch - 163ms/step\n",
            "Epoch 38/40\n",
            "100/100 - 16s - loss: 0.4546 - accuracy: 0.7835 - val_loss: 0.4895 - val_accuracy: 0.7570 - 16s/epoch - 161ms/step\n",
            "Epoch 39/40\n",
            "100/100 - 16s - loss: 0.4453 - accuracy: 0.7920 - val_loss: 0.4606 - val_accuracy: 0.7710 - 16s/epoch - 162ms/step\n",
            "Epoch 40/40\n",
            "100/100 - 16s - loss: 0.4436 - accuracy: 0.7910 - val_loss: 0.4384 - val_accuracy: 0.7930 - 16s/epoch - 162ms/step\n"
          ]
        }
      ],
      "source": [
        "# Create new model\n",
        "model_for_aug = create_model_aug()\n",
        "\n",
        "# This code has changed. Now instead of the ImageGenerator just rescaling\n",
        "# the image, we also rotate and do other operations\n",
        "train_datagen = ImageDataGenerator(\n",
        "      rescale=1./255,\n",
        "      rotation_range=40,\n",
        "      width_shift_range=0.2,\n",
        "      height_shift_range=0.2,\n",
        "      shear_range=0.2,\n",
        "      zoom_range=0.2,\n",
        "      horizontal_flip=True,\n",
        "      fill_mode='nearest')\n",
        "\n",
        "test_datagen = ImageDataGenerator(rescale=1./255)\n",
        "\n",
        "# Flow training images in batches of 20 using train_datagen generator\n",
        "train_generator = train_datagen.flow_from_directory(\n",
        "        train_dir,  # This is the source directory for training images\n",
        "        target_size=(150, 150),  # All images will be resized to 150x150\n",
        "        batch_size=20,\n",
        "        # Since we use binary_crossentropy loss, we need binary labels\n",
        "        class_mode='binary')\n",
        "\n",
        "# Flow validation images in batches of 20 using test_datagen generator\n",
        "validation_generator = test_datagen.flow_from_directory(\n",
        "        validation_dir,\n",
        "        target_size=(150, 150),\n",
        "        batch_size=20,\n",
        "        class_mode='binary')\n",
        "\n",
        "# Train the new model\n",
        "history_with_aug = model_for_aug.fit(\n",
        "      train_generator,\n",
        "      steps_per_epoch=100,  # 2000 images = batch_size * steps\n",
        "      epochs=40,\n",
        "      validation_data=validation_generator,\n",
        "      validation_steps=50,  # 1000 images = batch_size * steps\n",
        "      verbose=2)"
      ]
    },
    {
      "cell_type": "code",
      "execution_count": null,
      "metadata": {
        "id": "bnyRnwopT5aW",
        "colab": {
          "base_uri": "https://localhost:8080/",
          "height": 545
        },
        "outputId": "e9ec44c1-51f3-4ac8-c935-71057edfa31d"
      },
      "outputs": [
        {
          "output_type": "display_data",
          "data": {
            "image/png": "[encoded data removed]",
            "text/plain": [
              "<Figure size 432x288 with 1 Axes>"
            ]
          },
          "metadata": {
            "needs_background": "light"
          }
        },
        {
          "output_type": "display_data",
          "data": {
            "image/png": "[encoded data removed]",
            "text/plain": [
              "<Figure size 432x288 with 1 Axes>"
            ]
          },
          "metadata": {
            "needs_background": "light"
          }
        }
      ],
      "source": [
        "# Plot the results of training with data augmentation\n",
        "plot_loss_acc(history_with_aug)"
      ]
    },
    {
      "cell_type": "markdown",
      "metadata": {
        "id": "1D1hd5fqmJUx"
      },
      "source": [
        "As you can see, the training accuracy has gone down compared to the baseline. This is expected because (as a result of data augmentation) there are more variety in the images so the model will need more runs to learn from them. The good thing is the validation accuracy is no longer stalling and is more in line with the training results. This means that the model is now performing better on unseen data. \n",
        "\n",
        "\n"
      ]
    },
    {
      "cell_type": "markdown",
      "metadata": {
        "id": "z4B9b6GPnKg1"
      },
      "source": [
        "## Wrap Up\n",
        "\n",
        "This exercise showed a simple trick to avoid overfitting. You can improve your baseline results by simply tweaking the same images you have already. The `ImageDataGenerator` class has built-in parameters to do just that. Try to modify the values some more in the `train_datagen` and see what results you get.\n",
        "\n",
        "Take note that this will not work for all cases. In the next lesson, Laurence will show a scenario where data augmentation will not help improve your validation accuracy."
      ]
    }
  ],
  "metadata": {
    "accelerator": "GPU",
    "colab": {
      "collapsed_sections": [],
      "name": "Copy of Copy of C2_W2_Lab_1_cats_v_dogs_augmentation.ipynb",
      "provenance": [],
      "include_colab_link": true
    },
    "kernelspec": {
      "display_name": "Python 3",
      "language": "python",
      "name": "python3"
    },
    "language_info": {
      "codemirror_mode": {
        "name": "ipython",
        "version": 3
      },
      "file_extension": ".py",
      "mimetype": "text/x-python",
      "name": "python",
      "nbconvert_exporter": "python",
      "pygments_lexer": "ipython3",
      "version": "3.7.4"
    }
  },
  "nbformat": 4,
  "nbformat_minor": 0
}